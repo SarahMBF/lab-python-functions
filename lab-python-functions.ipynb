{
 "cells": [
  {
   "cell_type": "markdown",
   "id": "25d7736c-ba17-4aff-b6bb-66eba20fbf4e",
   "metadata": {},
   "source": [
    "# Lab | Functions"
   ]
  },
  {
   "cell_type": "markdown",
   "id": "0c581062-8967-4d93-b06e-62833222f930",
   "metadata": {
    "tags": []
   },
   "source": [
    "## Exercise: Managing Customer Orders with Functions\n",
    "\n",
    "In the previous exercise, you improved the code for managing customer orders by using loops and flow control. Now, let's take it a step further and refactor the code by introducing functions.\n",
    "\n",
    "Follow the steps below to complete the exercise:\n",
    "\n",
    "1. Define a function named `initialize_inventory` that takes `products` as a parameter. Inside the function, implement the code for initializing the inventory dictionary using a loop and user input.\n",
    "\n",
    "2. Define a function named `get_customer_orders` that takes no parameters. Inside the function, implement the code for prompting the user to enter the product names using a loop. The function should return the `customer_orders` set.\n",
    "\n",
    "3. Define a function named `update_inventory` that takes `customer_orders` and `inventory` as parameters. Inside the function, implement the code for updating the inventory dictionary based on the customer orders.\n",
    "\n",
    "4. Define a function named `calculate_order_statistics` that takes `customer_orders` and `products` as parameters. Inside the function, implement the code for calculating the order statistics (total products ordered, and percentage of unique products ordered). The function should return these values.\n",
    "\n",
    "5. Define a function named `print_order_statistics` that takes `order_statistics` as a parameter. Inside the function, implement the code for printing the order statistics.\n",
    "\n",
    "6. Define a function named `print_updated_inventory` that takes `inventory` as a parameter. Inside the function, implement the code for printing the updated inventory.\n",
    "\n",
    "7. Call the functions in the appropriate sequence to execute the program and manage customer orders.\n",
    "\n",
    "Hints for functions:\n",
    "\n",
    "- Consider the input parameters required for each function and their return values.\n",
    "- Utilize function parameters and return values to transfer data between functions.\n",
    "- Test your functions individually to ensure they work correctly.\n",
    "\n",
    "\n"
   ]
  },
  {
   "cell_type": "code",
   "execution_count": 251,
   "id": "6e1c8b71-9cb7-4ccf-bc76-e135d4d2bd96",
   "metadata": {},
   "outputs": [],
   "source": [
    "#Define a function named `initialize_inventory` that takes `products` as a parameter. \n",
    "# Inside the function, implement the code for initializing the inventory dictionary using a loop and user input.\n",
    "products_list = [\"t-shirt\", \"mug\", \"hat\", \"book\", \"keychain\"]\n",
    "\n",
    "def initialize_inventory(products_list):\n",
    "    inventory = {}\n",
    "    for product in products_list:\n",
    "        quantity = int(input(f\"Enter the quantity for {product}: \"))\n",
    "        inventory[product] = quantity\n",
    "    return inventory\n",
    "\n",
    "    "
   ]
  },
  {
   "cell_type": "code",
   "execution_count": 253,
   "id": "55220ddb-dabe-4fb5-9ad2-cf8c7f2133c7",
   "metadata": {},
   "outputs": [
    {
     "name": "stdin",
     "output_type": "stream",
     "text": [
      "Enter the quantity for t-shirt:  3\n",
      "Enter the quantity for mug:  4\n",
      "Enter the quantity for hat:  5\n",
      "Enter the quantity for book:  6\n",
      "Enter the quantity for keychain:  7\n"
     ]
    }
   ],
   "source": [
    "inventory = initialize_inventory([\"t-shirt\", \"mug\", \"hat\", \"book\", \"keychain\"])"
   ]
  },
  {
   "cell_type": "code",
   "execution_count": 255,
   "id": "70cd2774-6314-44d3-a171-2b59e575f76e",
   "metadata": {},
   "outputs": [],
   "source": [
    "#Define a function named `get_customer_orders` that takes no parameters. \n",
    "#Inside the function, implement the code for prompting the user to enter the product names using a loop. \n",
    "#The function should return the `customer_orders` set.\n",
    "\n",
    "def get_customer_orders():\n",
    "    customer_orders = set()\n",
    "    answer = \"yes\"\n",
    "\n",
    "    while answer == \"yes\":\n",
    "        users_input = input(\"Enter the product you want to buy: \")\n",
    "        customer_orders.add(users_input) \n",
    "        answer = input(\"Do you want to add another product? (yes/no) \")\n",
    "        print(\"Your order is: \", customer_orders)\n",
    "        if answer == \"no\":\n",
    "            print(\"Thank you for your order\")\n",
    "\n",
    "    return customer_orders\n",
    "\n"
   ]
  },
  {
   "cell_type": "code",
   "execution_count": 259,
   "id": "3967f8bc-6387-4342-8e81-e78936cafdf5",
   "metadata": {},
   "outputs": [
    {
     "name": "stdin",
     "output_type": "stream",
     "text": [
      "Enter the product you want to buy:  t-shirt\n",
      "Do you want to add another product? (yes/no)  yes\n"
     ]
    },
    {
     "name": "stdout",
     "output_type": "stream",
     "text": [
      "Your order is:  {'t-shirt'}\n"
     ]
    },
    {
     "name": "stdin",
     "output_type": "stream",
     "text": [
      "Enter the product you want to buy:  mug\n",
      "Do you want to add another product? (yes/no)  yes\n"
     ]
    },
    {
     "name": "stdout",
     "output_type": "stream",
     "text": [
      "Your order is:  {'t-shirt', 'mug'}\n"
     ]
    },
    {
     "name": "stdin",
     "output_type": "stream",
     "text": [
      "Enter the product you want to buy:  book\n",
      "Do you want to add another product? (yes/no)  no\n"
     ]
    },
    {
     "name": "stdout",
     "output_type": "stream",
     "text": [
      "Your order is:  {'book', 't-shirt', 'mug'}\n",
      "Thank you for your order\n"
     ]
    }
   ],
   "source": [
    "customer_orders = get_customer_orders()"
   ]
  },
  {
   "cell_type": "code",
   "execution_count": 267,
   "id": "f84b4bc7-05ee-44ef-88e1-bd1229709dde",
   "metadata": {},
   "outputs": [
    {
     "data": {
      "text/plain": [
       "{'book', 'mug', 't-shirt'}"
      ]
     },
     "execution_count": 267,
     "metadata": {},
     "output_type": "execute_result"
    }
   ],
   "source": [
    "customer_orders"
   ]
  },
  {
   "cell_type": "code",
   "execution_count": 269,
   "id": "51902e3a-a456-4b13-8245-f22ea2afaa6f",
   "metadata": {},
   "outputs": [],
   "source": [
    "#Define a function named `update_inventory` that takes `customer_orders` and `inventory` as parameters. \n",
    "# Inside the function, implement the code for updating the inventory dictionary based on the customer orders.\n",
    "def update_inventory(customer_orders, inventory):\n",
    "    for product in customer_orders:\n",
    "        if product in inventory.keys() and inventory[product]>0:\n",
    "            inventory[product] -= 1\n",
    "            print(f\"Updated inventory for {product}: {inventory[product]}\")\n",
    "        else:\n",
    "            print(f\"{product} is not available in the inventory.\")\n",
    "    return inventory\n",
    "\n"
   ]
  },
  {
   "cell_type": "code",
   "execution_count": 271,
   "id": "50b3e085-39f0-417b-a9aa-5b39ebac034f",
   "metadata": {},
   "outputs": [
    {
     "name": "stdout",
     "output_type": "stream",
     "text": [
      "Updated inventory for book: 5\n",
      "Updated inventory for t-shirt: 2\n",
      "Updated inventory for mug: 3\n"
     ]
    },
    {
     "data": {
      "text/plain": [
       "{'t-shirt': 2, 'mug': 3, 'hat': 5, 'book': 5, 'keychain': 7}"
      ]
     },
     "execution_count": 271,
     "metadata": {},
     "output_type": "execute_result"
    }
   ],
   "source": [
    "update_inventory(customer_orders, inventory)"
   ]
  },
  {
   "cell_type": "code",
   "execution_count": 273,
   "id": "739db62c-44d5-438d-8fc3-103023aaa5c3",
   "metadata": {},
   "outputs": [],
   "source": [
    "#Define a function named `calculate_order_statistics` that takes `customer_orders` and `products` as parameters. \n",
    "# Inside the function, implement the code for calculating the order statistics (total products ordered, \n",
    "# and percentage of unique products ordered). \n",
    "# The function should return these values.\n",
    "\n",
    "def calculate_order_statistics(customer_orders, products):\n",
    "    total_products_ordered = len(customer_orders)\n",
    "    print(\"Total Products Ordered: \", total_products_ordered)\n",
    "    #percentage of Products Ordered: The percentage of products ordered compared to the total available products.\n",
    "    percentage_ordered = (total_products_ordered / len(products)) * 100\n",
    "    print(\"Total percentage Ordered: \", percentage_ordered)\n",
    "    return total_products_ordered, percentage_ordered\n",
    "\n"
   ]
  },
  {
   "cell_type": "code",
   "execution_count": 275,
   "id": "18a30003-b96a-465b-b690-bddb4a735051",
   "metadata": {},
   "outputs": [
    {
     "name": "stdout",
     "output_type": "stream",
     "text": [
      "Total Products Ordered:  3\n",
      "Total percentage Ordered:  60.0\n"
     ]
    },
    {
     "data": {
      "text/plain": [
       "(3, 60.0)"
      ]
     },
     "execution_count": 275,
     "metadata": {},
     "output_type": "execute_result"
    }
   ],
   "source": [
    "calculate_order_statistics(customer_orders, products_list)"
   ]
  },
  {
   "cell_type": "code",
   "execution_count": 277,
   "id": "6327189c-a7f8-44dc-b00e-c6a1d63f0c34",
   "metadata": {},
   "outputs": [
    {
     "name": "stdout",
     "output_type": "stream",
     "text": [
      "Total Products Ordered:  3\n",
      "Total percentage Ordered:  60.0\n"
     ]
    }
   ],
   "source": [
    "total_products_ordered, percentage_ordered = calculate_order_statistics(customer_orders, products_list) "
   ]
  },
  {
   "cell_type": "code",
   "execution_count": 279,
   "id": "8f467dae-48a9-4c55-97fb-d10045c73e6e",
   "metadata": {},
   "outputs": [
    {
     "name": "stdout",
     "output_type": "stream",
     "text": [
      "Total Products Ordered: 3 Percentage of the Products Ordered:  60.0%\n"
     ]
    }
   ],
   "source": [
    "# Define a function named `print_order_statistics` that takes `order_statistics` as a parameter. \n",
    "# Inside the function, implement the code for printing the order statistics.\n",
    "\n",
    "\n",
    "def print_order_statistics(order_statistics):\n",
    "          # Unpack the order statistics tuple\n",
    " percentage_orderd = order_statistics[0]\n",
    " total_products_ordered = order_statistics[1]\n",
    "print(f\"Total Products Ordered: {total_products_ordered}\",f\"Percentage of the Products Ordered: {percentage_ordered: }%\")\n"
   ]
  },
  {
   "cell_type": "code",
   "execution_count": 281,
   "id": "1b46a9f9-8efe-4de8-ad8d-ec58a138d35e",
   "metadata": {},
   "outputs": [],
   "source": [
    "#Define a function named `print_updated_inventory` that takes `inventory` as a parameter. \n",
    "# Inside the function, implement the code for printing the updated inventory.\n",
    "def print_updated_inventory(inventory):\n",
    "    print(\"Updated Inventory:\")\n",
    "    for product, quantity in inventory.items():\n",
    "      print(f\"{product}: {quantity}\")\n",
    "    #return print_updated_inventory(inventory)\n"
   ]
  },
  {
   "cell_type": "code",
   "execution_count": 283,
   "id": "2f2a19ff-a7bf-4c7a-a7da-6d762bdbfbc5",
   "metadata": {},
   "outputs": [
    {
     "name": "stdout",
     "output_type": "stream",
     "text": [
      "Updated Inventory:\n",
      "t-shirt: 2\n",
      "mug: 3\n",
      "hat: 5\n",
      "book: 5\n",
      "keychain: 7\n"
     ]
    }
   ],
   "source": [
    "print_updated_inventory(inventory)"
   ]
  },
  {
   "cell_type": "code",
   "execution_count": 285,
   "id": "099183fa-357b-4d38-81dc-c1d0364a130d",
   "metadata": {},
   "outputs": [
    {
     "name": "stdin",
     "output_type": "stream",
     "text": [
      "Enter the quantity for t-shirt:  3\n",
      "Enter the quantity for mug:  4\n",
      "Enter the quantity for hat:  5\n",
      "Enter the quantity for book:  6\n",
      "Enter the quantity for keychain:  7\n",
      "Enter the product you want to buy:  t-shirt\n",
      "Do you want to add another product? (yes/no)  yes\n"
     ]
    },
    {
     "name": "stdout",
     "output_type": "stream",
     "text": [
      "Your order is:  {'t-shirt'}\n"
     ]
    },
    {
     "name": "stdin",
     "output_type": "stream",
     "text": [
      "Enter the product you want to buy:  mug\n",
      "Do you want to add another product? (yes/no)  yes\n"
     ]
    },
    {
     "name": "stdout",
     "output_type": "stream",
     "text": [
      "Your order is:  {'t-shirt', 'mug'}\n"
     ]
    },
    {
     "name": "stdin",
     "output_type": "stream",
     "text": [
      "Enter the product you want to buy:  book\n",
      "Do you want to add another product? (yes/no)  no\n"
     ]
    },
    {
     "name": "stdout",
     "output_type": "stream",
     "text": [
      "Your order is:  {'book', 't-shirt', 'mug'}\n",
      "Thank you for your order\n",
      "Updated inventory for book: 4\n",
      "Updated inventory for t-shirt: 1\n",
      "Updated inventory for mug: 2\n",
      "Total Products Ordered:  3\n",
      "Total percentage Ordered:  60.0\n",
      "Updated Inventory:\n",
      "t-shirt: 1\n",
      "mug: 2\n",
      "hat: 5\n",
      "book: 4\n",
      "keychain: 7\n"
     ]
    }
   ],
   "source": [
    "#Call the functions in the appropriate sequence to execute the program and manage customer orders.\n",
    "# Initialize the inventory \n",
    "\n",
    "initialize_inventory(products_list)\n",
    "get_customer_orders()\n",
    "update_inventory(customer_orders, inventory)\n",
    "total_products_ordered, percentage_ordered = calculate_order_statistics(customer_orders, products_list) \n",
    "print_updated_inventory(inventory)"
   ]
  },
  {
   "cell_type": "code",
   "execution_count": null,
   "id": "9576b69e-183d-490d-a3bb-10f419df06d1",
   "metadata": {},
   "outputs": [],
   "source": []
  }
 ],
 "metadata": {
  "kernelspec": {
   "display_name": "Python [conda env:base] *",
   "language": "python",
   "name": "conda-base-py"
  },
  "language_info": {
   "codemirror_mode": {
    "name": "ipython",
    "version": 3
   },
   "file_extension": ".py",
   "mimetype": "text/x-python",
   "name": "python",
   "nbconvert_exporter": "python",
   "pygments_lexer": "ipython3",
   "version": "3.12.7"
  }
 },
 "nbformat": 4,
 "nbformat_minor": 5
}
